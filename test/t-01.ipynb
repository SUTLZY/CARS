{
 "cells": [
  {
   "cell_type": "code",
   "execution_count": null,
   "metadata": {},
   "outputs": [
    {
     "name": "stdout",
     "output_type": "stream",
     "text": [
      "tensor([[[ 1,  2,  3,  4, 25, 26, 27, 28],\n",
      "         [ 5,  6,  7,  8, 29, 30, 31, 32],\n",
      "         [ 9, 10, 11, 12, 33, 34, 35, 36]],\n",
      "\n",
      "        [[13, 14, 15, 16, 37, 38, 39, 40],\n",
      "         [17, 18, 19, 20, 41, 42, 43, 44],\n",
      "         [21, 22, 23, 24, 45, 46, 47, 48]]])\n"
     ]
    }
   ],
   "source": [
    "import torch\n",
    "\n",
    "# 创建两个形状为 [2, 3, 4] 的张量\n",
    "tensor1 = torch.tensor([\n",
    "    [\n",
    "        [1, 2, 3, 4],\n",
    "        [5, 6, 7, 8],\n",
    "        [9, 10, 11, 12]\n",
    "    ],\n",
    "    [\n",
    "        [13, 14, 15, 16],\n",
    "        [17, 18, 19, 20],\n",
    "        [21, 22, 23, 24]\n",
    "    ]\n",
    "])\n",
    "\n",
    "tensor2 = torch.tensor([\n",
    "    [\n",
    "        [25, 26, 27, 28],\n",
    "        [29, 30, 31, 32],\n",
    "        [33, 34, 35, 36]\n",
    "    ],\n",
    "    [\n",
    "        [37, 38, 39, 40],\n",
    "        [41, 42, 43, 44],\n",
    "        [45, 46, 47, 48]\n",
    "    ]\n",
    "])\n",
    "\n",
    "# 在第2维（维度索引为1）上拼接两个张量\n",
    "concatenated_tensor = torch.cat((tensor1, tensor2), dim=2)\n",
    "\n",
    "print(concatenated_tensor)\n"
   ]
  },
  {
   "cell_type": "code",
   "execution_count": null,
   "metadata": {},
   "outputs": [
    {
     "ename": "",
     "evalue": "",
     "output_type": "error",
     "traceback": [
      "\u001b[1;31m运行具有“ray_lyn (Python 3.10.14)”的单元格需要ipykernel包。\n",
      "\u001b[1;31m运行以下命令，将 \"ipykernel\" 安装到 Python 环境中。\n",
      "\u001b[1;31m命令: \"conda install -n ray_lyn ipykernel --update-deps --force-reinstall\""
     ]
    }
   ],
   "source": [
    "import torch\n",
    "\n",
    "# 创建一个示例张量\n",
    "tensor = torch.tensor([[1.0, 2.0, 3.0],\n",
    "                       [4.0, 5.0, 6.0],\n",
    "                       [7.0, 8.0, 9.0]])\n",
    "\n",
    "# 计算沿第二维度（dim=1）的平均值\n",
    "mean_along_dim1 = torch.mean(tensor, dim=1)\n",
    "mean_along_dim2 = torch.mean(mean_along_dim1)\n",
    "\n",
    "print(mean_along_dim1)\n",
    "print(mean_along_dim2)\n"
   ]
  }
 ],
 "metadata": {
  "kernelspec": {
   "display_name": "ray_lyn",
   "language": "python",
   "name": "python3"
  },
  "language_info": {
   "name": "python",
   "version": "3.10.14"
  }
 },
 "nbformat": 4,
 "nbformat_minor": 2
}
